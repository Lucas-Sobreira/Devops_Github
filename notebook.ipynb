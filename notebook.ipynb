{
 "cells": [
  {
   "cell_type": "code",
   "execution_count": 1,
   "metadata": {},
   "outputs": [],
   "source": [
    "import pandas as pd "
   ]
  },
  {
   "cell_type": "code",
   "execution_count": 6,
   "metadata": {},
   "outputs": [
    {
     "data": {
      "text/html": [
       "<div>\n",
       "<style scoped>\n",
       "    .dataframe tbody tr th:only-of-type {\n",
       "        vertical-align: middle;\n",
       "    }\n",
       "\n",
       "    .dataframe tbody tr th {\n",
       "        vertical-align: top;\n",
       "    }\n",
       "\n",
       "    .dataframe thead th {\n",
       "        text-align: right;\n",
       "    }\n",
       "</style>\n",
       "<table border=\"1\" class=\"dataframe\">\n",
       "  <thead>\n",
       "    <tr style=\"text-align: right;\">\n",
       "      <th></th>\n",
       "      <th>id_municipio</th>\n",
       "      <th>ano</th>\n",
       "      <th>pib</th>\n",
       "      <th>impostos_liquidos</th>\n",
       "      <th>va</th>\n",
       "      <th>va_agropecuaria</th>\n",
       "      <th>va_industria</th>\n",
       "      <th>va_servicos</th>\n",
       "      <th>va_adespss</th>\n",
       "    </tr>\n",
       "  </thead>\n",
       "  <tbody>\n",
       "    <tr>\n",
       "      <th>0</th>\n",
       "      <td>1100015</td>\n",
       "      <td>2020</td>\n",
       "      <td>570272326</td>\n",
       "      <td>35109445</td>\n",
       "      <td>535162881</td>\n",
       "      <td>203394419</td>\n",
       "      <td>20716398</td>\n",
       "      <td>150192434</td>\n",
       "      <td>16085963</td>\n",
       "    </tr>\n",
       "    <tr>\n",
       "      <th>1</th>\n",
       "      <td>1100023</td>\n",
       "      <td>2020</td>\n",
       "      <td>2818048618</td>\n",
       "      <td>295655675</td>\n",
       "      <td>2522392943</td>\n",
       "      <td>19972271</td>\n",
       "      <td>404751757</td>\n",
       "      <td>1207405068</td>\n",
       "      <td>710513407</td>\n",
       "    </tr>\n",
       "    <tr>\n",
       "      <th>2</th>\n",
       "      <td>1100031</td>\n",
       "      <td>2020</td>\n",
       "      <td>167189811</td>\n",
       "      <td>7236636</td>\n",
       "      <td>159953175</td>\n",
       "      <td>81177101</td>\n",
       "      <td>5438033</td>\n",
       "      <td>28666966</td>\n",
       "      <td>44671074</td>\n",
       "    </tr>\n",
       "    <tr>\n",
       "      <th>3</th>\n",
       "      <td>1100049</td>\n",
       "      <td>2020</td>\n",
       "      <td>2519352677</td>\n",
       "      <td>274450529</td>\n",
       "      <td>2244902148</td>\n",
       "      <td>236214952</td>\n",
       "      <td>275536823</td>\n",
       "      <td>1157343983</td>\n",
       "      <td>575806391</td>\n",
       "    </tr>\n",
       "    <tr>\n",
       "      <th>4</th>\n",
       "      <td>1100056</td>\n",
       "      <td>2020</td>\n",
       "      <td>600670074</td>\n",
       "      <td>89923146</td>\n",
       "      <td>510746929</td>\n",
       "      <td>94757639</td>\n",
       "      <td>2358233</td>\n",
       "      <td>276755106</td>\n",
       "      <td>115651854</td>\n",
       "    </tr>\n",
       "  </tbody>\n",
       "</table>\n",
       "</div>"
      ],
      "text/plain": [
       "   id_municipio   ano         pib  impostos_liquidos          va  \\\n",
       "0       1100015  2020   570272326           35109445   535162881   \n",
       "1       1100023  2020  2818048618          295655675  2522392943   \n",
       "2       1100031  2020   167189811            7236636   159953175   \n",
       "3       1100049  2020  2519352677          274450529  2244902148   \n",
       "4       1100056  2020   600670074           89923146   510746929   \n",
       "\n",
       "   va_agropecuaria  va_industria  va_servicos  va_adespss  \n",
       "0        203394419      20716398    150192434    16085963  \n",
       "1         19972271     404751757   1207405068   710513407  \n",
       "2         81177101       5438033     28666966    44671074  \n",
       "3        236214952     275536823   1157343983   575806391  \n",
       "4         94757639       2358233    276755106   115651854  "
      ]
     },
     "execution_count": 6,
     "metadata": {},
     "output_type": "execute_result"
    }
   ],
   "source": [
    "path = './Data/'\n",
    "\n",
    "df = pd.read_csv(path + 'pib_municipio.csv', sep=',')\n",
    "df.head()"
   ]
  },
  {
   "cell_type": "code",
   "execution_count": 8,
   "metadata": {},
   "outputs": [
    {
     "name": "stdout",
     "output_type": "stream",
     "text": [
      "Quantidade de municipios no Dataframe: 5570\n"
     ]
    }
   ],
   "source": [
    "print('Quantidade de municipios no Dataframe: {}'.format(df.shape[0]))"
   ]
  },
  {
   "cell_type": "code",
   "execution_count": null,
   "metadata": {},
   "outputs": [],
   "source": []
  }
 ],
 "metadata": {
  "kernelspec": {
   "display_name": "base",
   "language": "python",
   "name": "python3"
  },
  "language_info": {
   "codemirror_mode": {
    "name": "ipython",
    "version": 3
   },
   "file_extension": ".py",
   "mimetype": "text/x-python",
   "name": "python",
   "nbconvert_exporter": "python",
   "pygments_lexer": "ipython3",
   "version": "3.10.9"
  },
  "orig_nbformat": 4
 },
 "nbformat": 4,
 "nbformat_minor": 2
}
